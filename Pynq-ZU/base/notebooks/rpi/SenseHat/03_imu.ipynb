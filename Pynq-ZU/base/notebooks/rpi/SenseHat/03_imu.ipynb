{
 "cells": [
  {
   "cell_type": "markdown",
   "metadata": {},
   "source": [
    "# Sense HAT for PYNQ:Level meter\n",
    "\n",
    "This notebook illustrates how to implement a level meter use the [Sense HAT](https://www.raspberrypi.org/products/sense-hat/). It reads the acceleration data from Sense HAT's IMU(Inertial Measurement Unit) sensor and display a 2x2 matrix on LED matrix to show current level status.\n",
    "\n",
    "This example notebook includes the following steps.\n",
    "1. import python libraries\n",
    "2. select RPi switch and using Microblaze library\n",
    "3. configure the I2C device\n",
    "4. read single IMU data\n",
    "5. implement a level meter\n",
    "\n",
    "![PYNQ with Sense HAT](data/PYNQ_with_Sense_HAT.jpg)\n"
   ]
  },
  {
   "cell_type": "markdown",
   "metadata": {},
   "source": [
    "### 1. Sense HAT Introduction\n",
    "\n",
    "The Sense HAT, which is a fundamental part of the [Astro Pi](https://astro-pi.org/) mission, allows your board to sense the world around it. It has a 8×8 RGB LED matrix, a five-button joystick and includes the following sensors:\n",
    "\n",
    "* Gyroscope\n",
    "* Accelerometer\n",
    "* Magnetometer\n",
    "* Temperature\n",
    "* Barometric pressure\n",
    "* Humidity\n",
    "\n",
    "![Sense HAT add-on board](data/Sense_HAT.jpg)\n"
   ]
  },
  {
   "cell_type": "markdown",
   "metadata": {},
   "source": [
    "### 2. Prepare the overlay\n",
    "Download the overlay first, then select the shared pin to be connected to\n",
    "RPi header (by default, the pins will be connected to PMODA instead)."
   ]
  },
  {
   "cell_type": "code",
   "execution_count": 2,
   "metadata": {},
   "outputs": [],
   "source": [
    "from pynq.overlays.base import BaseOverlay\n",
    "from pynq.lib import MicroblazeLibrary\n",
    "from imp import reload\n",
    "from time import sleep\n",
    "import numpy as np\n",
    "from sensehat import *"
   ]
  },
  {
   "cell_type": "code",
   "execution_count": 3,
   "metadata": {},
   "outputs": [],
   "source": [
    "base = BaseOverlay('base.bit')\n",
    "lib = MicroblazeLibrary(base.RPI, ['i2c','gpio', 'xio_switch','circular_buffer'])"
   ]
  },
  {
   "cell_type": "markdown",
   "metadata": {},
   "source": [
    "### 3. Configure the I2C device and GPIO device\n",
    "Initialize the I2C device and set the I2C pin of RPi header. Since the PYNQ-ZU board does not have pull-up on the Reset_N pin of the HAT (GPIO25), set that to 1. "
   ]
  },
  {
   "cell_type": "code",
   "execution_count": 4,
   "metadata": {},
   "outputs": [],
   "source": [
    "i2c = lib.i2c_open_device(1)\n",
    "lib.set_pin(2, lib.SDA1)\n",
    "lib.set_pin(3, lib.SCL1)\n",
    "gpio25=lib.gpio_open(25)\n",
    "lib.gpio_set_direction(gpio25, 0);\n",
    "gpio25.write(1)"
   ]
  },
  {
   "cell_type": "markdown",
   "metadata": {},
   "source": [
    "### 4. Define level_meter function\n",
    "the level_meter function get the acceleration data and display current level status"
   ]
  },
  {
   "cell_type": "code",
   "execution_count": 5,
   "metadata": {},
   "outputs": [],
   "source": [
    "def level_meter(accel_x, accel_y, buf):\n",
    "    center_data = np.array(\n",
    "        [\n",
    "       #[1, 2, 3, 4, 5, 6, 7, 8],\n",
    "        [0, 0, 0, 0, 0, 0, 0, 0],# 1\n",
    "        [0, 0, 0, 0, 0, 0, 0, 0],# 2\n",
    "        [0, 0, 0, 0, 0, 0, 0, 0],# 3\n",
    "        [0, 0, 0, 1, 1, 0, 0, 0],# 4\n",
    "        [0, 0, 0, 1, 1, 0, 0, 0],# 5\n",
    "        [0, 0, 0, 0, 0, 0, 0, 0],# 6\n",
    "        [0, 0, 0, 0, 0, 0, 0, 0],# 7\n",
    "        [0, 0, 0, 0, 0, 0, 0, 0] # 8\n",
    "        ]\n",
    "    )\n",
    "    buf[0] = 0\n",
    "    red_color = 0\n",
    "    green_color = 0\n",
    "    blue_color = 50\n",
    "    x_value = int(accel_x * 1.5)\n",
    "    y_value = int(accel_y * 1.5)\n",
    "    x_value = 3 if x_value < -3 else 5 if x_value > 3 else abs(x_value) if x_value < 0 else 8 - x_value\n",
    "    y_value = 3 if y_value < -3 else 5 if y_value > 3 else abs(y_value) if y_value < 0 else 8 - y_value\n",
    "    frame_buffer = np.hstack((center_data[:,x_value:8],center_data[:,0:x_value]))\n",
    "    frame_buffer = np.vstack((frame_buffer[y_value:8],frame_buffer[0:y_value]))\n",
    "    frame_buffer = np.rot90(frame_buffer, 2)\n",
    "    for y in range(0,8) :\n",
    "        for x in range(0,8) :\n",
    "            buf[1+x+8*0+3*8*y] = red_color\n",
    "            buf[1+x+8*1+3*8*y] = green_color\n",
    "            buf[1+x+8*2+3*8*y] = frame_buffer[y][x]*blue_color"
   ]
  },
  {
   "cell_type": "markdown",
   "metadata": {},
   "source": [
    "### 5. Read single IMU data\n",
    "The IMU sensor of Sense HAT is LSM9DS1 "
   ]
  },
  {
   "cell_type": "code",
   "execution_count": 6,
   "metadata": {},
   "outputs": [
    {
     "name": "stdout",
     "output_type": "stream",
     "text": [
      "Acceleration (m/s^2): (-0.578,0.722,15.933)\n",
      "Magnetometer (gauss): (0.219,0.260,-0.116)\n",
      "Gyroscope (degrees/sec): (-48.633,5.346,109.261)\n",
      "Temperature: 28.500C\n"
     ]
    }
   ],
   "source": [
    "sensor = adafruit_lsm9ds1.LSM9DS1_I2C(i2c)\n",
    "accel_x, accel_y, accel_z = sensor.acceleration\n",
    "mag_x, mag_y, mag_z = sensor.magnetic\n",
    "gyro_x, gyro_y, gyro_z = sensor.gyro\n",
    "temp = sensor.temperature\n",
    "# Print values.\n",
    "print('Acceleration (m/s^2): ({0:0.3f},{1:0.3f},{2:0.3f})'.format(accel_x, accel_y, accel_z))\n",
    "print('Magnetometer (gauss): ({0:0.3f},{1:0.3f},{2:0.3f})'.format(mag_x, mag_y, mag_z))\n",
    "print('Gyroscope (degrees/sec): ({0:0.3f},{1:0.3f},{2:0.3f})'.format(gyro_x, gyro_y, gyro_z))\n",
    "print('Temperature: {0:0.3f}C'.format(temp))"
   ]
  },
  {
   "cell_type": "markdown",
   "metadata": {},
   "source": [
    "### 6.Implement a level meter\n",
    "Press Run to implement a level meter, press BTN0 to exit."
   ]
  },
  {
   "cell_type": "code",
   "execution_count": 7,
   "metadata": {},
   "outputs": [],
   "source": [
    "buf = bytearray(193)\n",
    "buf[0] = 0"
   ]
  },
  {
   "cell_type": "code",
   "execution_count": 8,
   "metadata": {},
   "outputs": [],
   "source": [
    "while not base.buttons[0].read():\n",
    "    accel_x, accel_y, accel_z = sensor.acceleration\n",
    "    level_meter(accel_x, accel_y, buf)\n",
    "    i2c.write(0x46, buf, 193)\n",
    "    sleep(0.2)\n",
    "level_meter(0, 0, buf)\n",
    "i2c.write(0x46, buf, 193)"
   ]
  },
  {
   "cell_type": "markdown",
   "metadata": {},
   "source": [
    "### 7.Clean up"
   ]
  },
  {
   "cell_type": "code",
   "execution_count": 9,
   "metadata": {},
   "outputs": [],
   "source": [
    "i2c.close()"
   ]
  },
  {
   "cell_type": "markdown",
   "metadata": {},
   "source": [
    "Copyright (C) 2020 Xilinx, Inc"
   ]
  }
 ],
 "metadata": {
  "kernelspec": {
   "display_name": "Python 3",
   "language": "python",
   "name": "python3"
  },
  "language_info": {
   "codemirror_mode": {
    "name": "ipython",
    "version": 3
   },
   "file_extension": ".py",
   "mimetype": "text/x-python",
   "name": "python",
   "nbconvert_exporter": "python",
   "pygments_lexer": "ipython3",
   "version": "3.6.5"
  }
 },
 "nbformat": 4,
 "nbformat_minor": 2
}
