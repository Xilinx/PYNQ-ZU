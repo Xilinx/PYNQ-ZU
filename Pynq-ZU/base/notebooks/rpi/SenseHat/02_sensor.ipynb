{
 "cells": [
  {
   "cell_type": "markdown",
   "metadata": {},
   "source": [
    "# Sense HAT for PYNQ:Temperature and Pressure Sensor\n",
    "\n",
    "This notebook illustrates how to read the temperature and pressure sensor data use the [Sense HAT](https://www.raspberrypi.org/products/sense-hat/) .\n",
    "\n",
    "\n",
    "This example notebook includes the following steps.\n",
    "1. import python libraries\n",
    "2. select RPi switch and using Microblaze library\n",
    "3. configure the I2C device\n",
    "4. read single temperature and pressure\n",
    "5. read and plot temperature once every 200ms for 5s\n",
    "\n",
    "![PYNQ with Sense HAT](data/PYNQ_with_Sense_HAT.jpg)\n"
   ]
  },
  {
   "cell_type": "markdown",
   "metadata": {},
   "source": [
    "### 1. Sense HAT Introduction\n",
    "\n",
    "The Sense HAT, which is a fundamental part of the [Astro Pi](https://astro-pi.org/) mission, allows your board to sense the world around it. It has a 8×8 RGB LED matrix, a five-button joystick and includes the following sensors:\n",
    "\n",
    "* Gyroscope\n",
    "* Accelerometer\n",
    "* Magnetometer\n",
    "* Temperature\n",
    "* Barometric pressure\n",
    "* Humidity\n",
    "\n",
    "![Sense HAT add-on board](data/Sense_HAT.jpg)\n"
   ]
  },
  {
   "cell_type": "markdown",
   "metadata": {},
   "source": [
    "### 2. Prepare the overlay\n",
    "Download the overlay first, then select the shared pin to be connected to\n",
    "RPi header (by default, the pins will be connected to PMODA instead)."
   ]
  },
  {
   "cell_type": "code",
   "execution_count": null,
   "metadata": {},
   "outputs": [],
   "source": [
    "from pynq.overlays.base import BaseOverlay\n",
    "from pynq.lib import MicroblazeLibrary\n",
    "import matplotlib.pyplot as plt\n",
    "from imp import reload\n",
    "from time import sleep\n",
    "from sensehat import *"
   ]
  },
  {
   "cell_type": "code",
   "execution_count": null,
   "metadata": {},
   "outputs": [],
   "source": [
    "base = BaseOverlay('base.bit')\n",
    "lib = MicroblazeLibrary(base.RPI, ['i2c', 'gpio', 'xio_switch','circular_buffer'])"
   ]
  },
  {
   "cell_type": "markdown",
   "metadata": {},
   "source": [
    "### 3. Configure the I2C device and GPIO device\n",
    "Initialize the I2C device and set the I2C pin of RPi header. Since the PYNQ-ZU board does not have pull-up on the Reset_N pin of the HAT (GPIO25), set that to 1. "
   ]
  },
  {
   "cell_type": "code",
   "execution_count": null,
   "metadata": {},
   "outputs": [],
   "source": [
    "i2c = lib.i2c_open_device(1)\n",
    "lib.set_pin(2, lib.SDA1)\n",
    "lib.set_pin(3, lib.SCL1)\n",
    "gpio = lib.gpio_open(25)\n",
    "gpio.write(1)"
   ]
  },
  {
   "cell_type": "markdown",
   "metadata": {},
   "source": [
    "### 4. Read single temperature and pressure\n",
    "The MEMS pressure sensor of Sense HAT is LPS25H, "
   ]
  },
  {
   "cell_type": "code",
   "execution_count": null,
   "metadata": {},
   "outputs": [],
   "source": [
    "lps25h_sensor = lps25h.LPS25H_I2C(i2c)\n",
    "press = lps25h_sensor.pressure\n",
    "print('Pressure (hPa): ({0:0.3f})'.format(press))\n",
    "tmp = lps25h_sensor.temperature\n",
    "print('Temperature (℃\"): ({0:0.3f})'.format(tmp))"
   ]
  },
  {
   "cell_type": "markdown",
   "metadata": {},
   "source": [
    "### 5. Start logging once every 200ms for 5 seconds\n",
    "Executing the next cell will start logging the temperature sensor values every 200ms, and will run for 5s. "
   ]
  },
  {
   "cell_type": "code",
   "execution_count": null,
   "metadata": {},
   "outputs": [],
   "source": [
    "cnt = 0\n",
    "tmp_array = []\n",
    "while True:\n",
    "    tmp = lps25h_sensor.temperature\n",
    "    tmp_array.append(tmp)\n",
    "    cnt = cnt + 1\n",
    "    sleep(0.2)\n",
    "    if cnt > 25:\n",
    "        break\n",
    "plt.plot(range(len(tmp_array)), tmp_array, 'ro')\n",
    "plt.title(\"Sense Hat Temperature Plot\")\n",
    "min_tmp_array = min(tmp_array)\n",
    "max_tmp_array = max(tmp_array)\n",
    "plt.axis([0, len(tmp_array), min_tmp_array, max_tmp_array])\n",
    "plt.show()"
   ]
  },
  {
   "cell_type": "markdown",
   "metadata": {},
   "source": [
    "### 6.Clean up\n",
    "Close the I2C device and switch back the connection on the shared pin to PMODA header."
   ]
  },
  {
   "cell_type": "code",
   "execution_count": null,
   "metadata": {},
   "outputs": [],
   "source": [
    "i2c.close()"
   ]
  },
  {
   "cell_type": "markdown",
   "metadata": {},
   "source": [
    "Copyright (C) 2020 Xilinx, Inc"
   ]
  }
 ],
 "metadata": {
  "kernelspec": {
   "display_name": "Python 3",
   "language": "python",
   "name": "python3"
  },
  "language_info": {
   "codemirror_mode": {
    "name": "ipython",
    "version": 3
   },
   "file_extension": ".py",
   "mimetype": "text/x-python",
   "name": "python",
   "nbconvert_exporter": "python",
   "pygments_lexer": "ipython3",
   "version": "3.6.5"
  }
 },
 "nbformat": 4,
 "nbformat_minor": 2
}
