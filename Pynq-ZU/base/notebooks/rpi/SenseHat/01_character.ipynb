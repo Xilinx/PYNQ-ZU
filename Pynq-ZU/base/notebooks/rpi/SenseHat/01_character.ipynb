{
 "cells": [
  {
   "cell_type": "markdown",
   "metadata": {},
   "source": [
    "# Sense HAT for PYNQ:Character display\n",
    "\n",
    "This notebook illustrates how to interact with the [Sense HAT](https://www.raspberrypi.org/products/sense-hat/) and display character on the LED matrix of Sense HAT.\n",
    "\n",
    "\n",
    "This example notebook includes the following steps.\n",
    "1. import python libraries\n",
    "2. select RPi switch and using Microblaze Library\n",
    "3. configure the I2C device\n",
    "4. convert characters\n",
    "5. waiting for user's input and display on the Sense HAT LED matrix\n",
    "\n",
    "![PYNQ with Sense HAT](data/PYNQ_with_Sense_HAT.jpg)\n"
   ]
  },
  {
   "cell_type": "markdown",
   "metadata": {},
   "source": [
    "### 1. Sense HAT Introduction\n",
    "\n",
    "The Sense HAT, which is a fundamental part of the [Astro Pi](https://astro-pi.org/) mission, allows your board to sense the world around it.It has a 8×8 RGB LED matrix, a five-button joystick and includes the following sensors:\n",
    "\n",
    "* Gyroscope\n",
    "* Accelerometer\n",
    "* Magnetometer\n",
    "* Temperature\n",
    "* Barometric pressure\n",
    "* Humidity\n",
    "\n",
    "![Sense HAT add-on board](data/Sense_HAT.jpg)\n"
   ]
  },
  {
   "cell_type": "markdown",
   "metadata": {},
   "source": [
    "### 2. Prepare the overlay\n",
    "Download the overlay first, then select the shared pin to be connected to\n",
    "RPi header (by default, the pins will be connected to PMODA instead)."
   ]
  },
  {
   "cell_type": "code",
   "execution_count": 10,
   "metadata": {},
   "outputs": [],
   "source": [
    "from pynq.overlays.base import BaseOverlay\n",
    "from pynq.lib import MicroblazeLibrary\n",
    "from PIL import Image, ImageDraw, ImageFont, ImageShow, ImageColor \n",
    "import time\n",
    "import numpy as np"
   ]
  },
  {
   "cell_type": "code",
   "execution_count": 11,
   "metadata": {},
   "outputs": [],
   "source": [
    "base = BaseOverlay('base.bit')\n",
    "lib = MicroblazeLibrary(base.RPI, ['i2c','gpio', 'xio_switch','circular_buffer'])"
   ]
  },
  {
   "cell_type": "markdown",
   "metadata": {},
   "source": [
    "### 3. Configure the I2C device and GPIO device\n",
    "Initialize the I2C device and set the I2C pin of RPi header. Since the PYNQ-ZU board does not have pull-up on the Reset_N pin of the HAT (GPIO25), set that to 1. "
   ]
  },
  {
   "cell_type": "code",
   "execution_count": 12,
   "metadata": {},
   "outputs": [],
   "source": [
    "device = lib.i2c_open_device(1)\n",
    "lib.set_pin(2, lib.SDA1)\n",
    "lib.set_pin(3, lib.SCL1)\n",
    "gpio25=lib.gpio_open(25)\n",
    "lib.gpio_set_direction(gpio25, 0);\n",
    "gpio25.write(1)"
   ]
  },
  {
   "cell_type": "code",
   "execution_count": 13,
   "metadata": {},
   "outputs": [],
   "source": [
    "LED_MATRIX_ADDRESS = 0x46"
   ]
  },
  {
   "cell_type": "markdown",
   "metadata": {},
   "source": [
    "### 4. Convert characters\n",
    "Render characters and organize images into dictionary"
   ]
  },
  {
   "cell_type": "code",
   "execution_count": 15,
   "metadata": {},
   "outputs": [],
   "source": [
    "text = ' +-*/!\"><0123456789.=)(ABCDEFGHIJKLMNOPQRSTUVWXYZabcdefghijklmnopqrstuvwxyz?,;:\\''\n",
    "img = Image.new('RGB', (len(text)*5, 8), color = (0,0,0))\n",
    "d = ImageDraw.Draw(img)\n",
    "d.text((0,-1), text, fill=(255,255,255),font=ImageFont.truetype(\"/usr/share/fonts/truetype/ttf-bitstream-vera/VeraMono.ttf\",8))\n",
    "text_pixels = list(map(list, img.rotate(-90, expand=True).getdata()))"
   ]
  },
  {
   "cell_type": "code",
   "execution_count": 16,
   "metadata": {},
   "outputs": [],
   "source": [
    "text_dict = {}\n",
    "for index, s in enumerate(text):\n",
    "    start = index * 40\n",
    "    end = start + 40\n",
    "    char = text_pixels[start:end]\n",
    "    text_dict[s] = char"
   ]
  },
  {
   "cell_type": "markdown",
   "metadata": {},
   "source": [
    "### 5. Display\n",
    "Wait for input and display on the LED matrix"
   ]
  },
  {
   "cell_type": "code",
   "execution_count": 17,
   "metadata": {},
   "outputs": [],
   "source": [
    "buf = bytearray(8*8*3+1) # Display size 8x8 grid (3 color) plus end char\n",
    "buf[0] = 0"
   ]
  },
  {
   "cell_type": "code",
   "execution_count": 19,
   "metadata": {},
   "outputs": [
    {
     "name": "stdout",
     "output_type": "stream",
     "text": [
      "Please input a string(e.g.'HELLO,XILINX!') and press enter. Input 'C' to terminate.\n",
      "'HELLO,XILINX!'\n",
      "Please input a string(e.g.'HELLO,XILINX!') and press enter. Input 'C' to terminate.\n",
      "\"Hello\"\n",
      "Please input a string(e.g.'HELLO,XILINX!') and press enter. Input 'C' to terminate.\n",
      "\"HELLO,XILINX!\"\n",
      "Please input a string(e.g.'HELLO,XILINX!') and press enter. Input 'C' to terminate.\n",
      "c\n"
     ]
    }
   ],
   "source": [
    "done = False\n",
    "while not done:\n",
    "    display = input(\"Please input a string(e.g.'HELLO,XILINX!') and press enter. Input 'C' to terminate.\\n\")\n",
    "    if(display == \"c\" or display == \"C\" ):\n",
    "        done = True\n",
    "    else:\n",
    "        display = display + \" \"\n",
    "        for value in display:\n",
    "            for i in range(0,len(buf)) :\n",
    "                buf[i] = 0;\n",
    "            for y in range(0,8) :\n",
    "                for x in range(2,7) :\n",
    "                    buf[1+x+8*0+3*8*y] = int(text_dict[value][8*(6-x)+(y)][0]/20); #R\n",
    "                    buf[1+x+8*1+3*8*y] = int(text_dict[value][8*(6-x)+(y)][1]/20); #G\n",
    "                    buf[1+x+8*2+3*8*y] = int(text_dict[value][8*(6-x)+(y)][2]/20); #B\n",
    "            lib.i2c_write(device, LED_MATRIX_ADDRESS, buf, len(buf))\n",
    "            time.sleep(0.5)"
   ]
  },
  {
   "cell_type": "code",
   "execution_count": 20,
   "metadata": {},
   "outputs": [],
   "source": [
    "device.close()"
   ]
  },
  {
   "cell_type": "markdown",
   "metadata": {},
   "source": [
    "Copyright (C) 2020 Xilinx, Inc"
   ]
  }
 ],
 "metadata": {
  "kernelspec": {
   "display_name": "Python 3",
   "language": "python",
   "name": "python3"
  },
  "language_info": {
   "codemirror_mode": {
    "name": "ipython",
    "version": 3
   },
   "file_extension": ".py",
   "mimetype": "text/x-python",
   "name": "python",
   "nbconvert_exporter": "python",
   "pygments_lexer": "ipython3",
   "version": "3.6.5"
  }
 },
 "nbformat": 4,
 "nbformat_minor": 4
}
