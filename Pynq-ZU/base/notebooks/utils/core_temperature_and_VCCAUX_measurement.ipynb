{
 "cells": [
  {
   "cell_type": "markdown",
   "metadata": {},
   "source": [
    "# Core temperature and VCCAUX measurements \n",
    "---"
   ]
  },
  {
   "cell_type": "markdown",
   "metadata": {},
   "source": [
    "## Aim\n",
    "\n",
    "* This notebook illustrates how to measure FPGA Core temperature and VCCAUX using the System Management IP (XADC)\n",
    "\n",
    "## Revision History\n",
    "\n",
    "* Initial Release\n",
    "\n",
    "---"
   ]
  },
  {
   "cell_type": "markdown",
   "metadata": {},
   "source": [
    "## Load _base_ Overlay"
   ]
  },
  {
   "cell_type": "code",
   "execution_count": 1,
   "metadata": {},
   "outputs": [
    {
     "data": {
      "application/javascript": [
       "\n",
       "try {\n",
       "require(['notebook/js/codecell'], function(codecell) {\n",
       "  codecell.CodeCell.options_default.highlight_modes[\n",
       "      'magic_text/x-csrc'] = {'reg':[/^%%microblaze/]};\n",
       "  Jupyter.notebook.events.one('kernel_ready.Kernel', function(){\n",
       "      Jupyter.notebook.get_cells().map(function(cell){\n",
       "          if (cell.cell_type == 'code'){ cell.auto_highlight(); } }) ;\n",
       "  });\n",
       "});\n",
       "} catch (e) {};\n"
      ]
     },
     "metadata": {},
     "output_type": "display_data"
    },
    {
     "data": {
      "application/javascript": [
       "\n",
       "try {\n",
       "require(['notebook/js/codecell'], function(codecell) {\n",
       "  codecell.CodeCell.options_default.highlight_modes[\n",
       "      'magic_text/x-csrc'] = {'reg':[/^%%pybind11/]};\n",
       "  Jupyter.notebook.events.one('kernel_ready.Kernel', function(){\n",
       "      Jupyter.notebook.get_cells().map(function(cell){\n",
       "          if (cell.cell_type == 'code'){ cell.auto_highlight(); } }) ;\n",
       "  });\n",
       "});\n",
       "} catch (e) {};\n"
      ]
     },
     "metadata": {},
     "output_type": "display_data"
    }
   ],
   "source": [
    "from time import sleep\n",
    "from pynq.overlays.base import BaseOverlay\n",
    "\n",
    "base = BaseOverlay('base.bit')"
   ]
  },
  {
   "cell_type": "markdown",
   "metadata": {},
   "source": [
    "### Instantiate the System Management object"
   ]
  },
  {
   "cell_type": "code",
   "execution_count": 2,
   "metadata": {},
   "outputs": [],
   "source": [
    "xadc=base.system_management_wiz_0.mmio"
   ]
  },
  {
   "cell_type": "markdown",
   "metadata": {},
   "source": [
    "### Define registers offset"
   ]
  },
  {
   "cell_type": "markdown",
   "metadata": {},
   "source": [
    "Since there are number of registers required to measure the Core temperature and VCCAUX (1.8V), define them first."
   ]
  },
  {
   "cell_type": "code",
   "execution_count": 3,
   "metadata": {},
   "outputs": [],
   "source": [
    "# define registers offset, masks related to the System Management IP\n",
    "XSM_SRR_OFFSET=0\n",
    "XSM_SR_OFFSET=4\n",
    "XSM_IP_OFFSET=0x200\n",
    "\n",
    "XSM_TEMP_OFFSET=XSM_IP_OFFSET+0x200\n",
    "XSM_VCCINT_OFFSET=XSM_IP_OFFSET + 0x204\n",
    "XSM_VCCAUX_OFFSET=XSM_IP_OFFSET + 0x208\n",
    "\n",
    "XSM_AUX14_OFFSET=XSM_IP_OFFSET + 0x278\n",
    "XSM_AUX15_OFFSET=XSM_IP_OFFSET + 0x27C\n",
    "\n",
    "XSM_CFR0_OFFSET=XSM_IP_OFFSET + 0x300\n",
    "XSM_CFR1_OFFSET=XSM_IP_OFFSET + 0x304\n",
    "XSM_CFR2_OFFSET=XSM_IP_OFFSET + 0x308\n",
    "XSM_SEQ00_OFFSET=XSM_IP_OFFSET + 0x320\n",
    "XSM_SEQ01_OFFSET=XSM_IP_OFFSET + 0x324\n",
    "XSM_SEQ02_OFFSET=XSM_IP_OFFSET + 0x328\n",
    "XSM_SEQ03_OFFSET=XSM_IP_OFFSET + 0x32C\n",
    "XSM_SEQ04_OFFSET=XSM_IP_OFFSET + 0x330\n",
    "XSM_SEQ05_OFFSET=XSM_IP_OFFSET + 0x334\n",
    "XSM_SEQ07_OFFSET=XSM_IP_OFFSET + 0x33c\n",
    "\n",
    "XSM_CFR0_AVG_VALID_MASK=0x3000\n",
    "XSM_CFR0_AVG16_MASK=0x1000\n",
    "XSM_CFR1_SEQ_VALID_MASK=0xF000\n",
    "XSM_CFR1_SEQ_SAFEMODE_MASK=0x0000\n",
    "XSM_CFR1_SEQ_CONTINPASS_MASK=0x2000\n",
    "XSM_SRR_IPRST_MASK=0x0000000A\n",
    "XSM_SR_EOS_MASK=0x00000040\n",
    "\n",
    "XSM_SEQ_CH_TEMP=0x100\n",
    "XSM_SEQ_CH_VCCAUX=0x400\n",
    "XSM_SEQ_CH_AUX00=0x00010000\n",
    "XSM_SEQ_CH_AUX14=0x40000000\n",
    "XSM_SEQ_CH_AUX15=0x80000000\n",
    "XSM_SEQ_CH_AUX_SHIFT=16\n",
    "XSM_CFR2_CD_SHIFT=8"
   ]
  },
  {
   "cell_type": "markdown",
   "metadata": {},
   "source": [
    "### Perform measurements and display results"
   ]
  },
  {
   "cell_type": "markdown",
   "metadata": {},
   "source": [
    "Reset the IP and configure to measure the Core temperature and VCCAUX voltage."
   ]
  },
  {
   "cell_type": "code",
   "execution_count": 4,
   "metadata": {},
   "outputs": [],
   "source": [
    "# Reset the IP\n",
    "xadc.write(XSM_SRR_OFFSET,XSM_SRR_IPRST_MASK)\n",
    "# disable channel sequencer before configuring the sequence register\n",
    "regvalue=xadc.read(XSM_CFR1_OFFSET)\n",
    "xadc.write(XSM_CFR0_OFFSET, (regvalue & ~XSM_CFR1_SEQ_VALID_MASK | XSM_CFR1_SEQ_SAFEMODE_MASK))"
   ]
  },
  {
   "cell_type": "markdown",
   "metadata": {},
   "source": [
    "Measure every 2 seconds for five times and display the result."
   ]
  },
  {
   "cell_type": "code",
   "execution_count": 5,
   "metadata": {
    "scrolled": false
   },
   "outputs": [
    {
     "name": "stdout",
     "output_type": "stream",
     "text": [
      "Core temperature: 33.65  C\n",
      "VCCAUX voltage: 1.80  V\n",
      "Core temperature: 33.98  C\n",
      "VCCAUX voltage: 1.80  V\n",
      "Core temperature: 31.99  C\n",
      "VCCAUX voltage: 1.80  V\n",
      "Core temperature: 33.17  C\n",
      "VCCAUX voltage: 1.80  V\n",
      "Core temperature: 33.34  C\n",
      "VCCAUX voltage: 1.80  V\n"
     ]
    }
   ],
   "source": [
    "# Read the current value of the on-chip temperature and VCCAUX voltage\n",
    "for i in range(5):\n",
    "    print(\"Core temperature: \"+\"{:.2f}\".format(((xadc.read(XSM_TEMP_OFFSET))/65536)/0.00199451786-273.67),\" C\")\n",
    "    print(\"VCCAUX voltage: \"+\"{:.2f}\".format((xadc.read(XSM_VCCAUX_OFFSET))*3.0/65536),\" V\")\n",
    "    sleep(2)"
   ]
  },
  {
   "cell_type": "markdown",
   "metadata": {},
   "source": [
    "Copyright (C) 2021 Xilinx, Inc"
   ]
  },
  {
   "cell_type": "markdown",
   "metadata": {},
   "source": [
    "---"
   ]
  },
  {
   "cell_type": "markdown",
   "metadata": {},
   "source": [
    "---"
   ]
  }
 ],
 "metadata": {
  "kernelspec": {
   "display_name": "Python 3",
   "language": "python",
   "name": "python3"
  },
  "language_info": {
   "codemirror_mode": {
    "name": "ipython",
    "version": 3
   },
   "file_extension": ".py",
   "mimetype": "text/x-python",
   "name": "python",
   "nbconvert_exporter": "python",
   "pygments_lexer": "ipython3",
   "version": "3.6.5"
  }
 },
 "nbformat": 4,
 "nbformat_minor": 4
}
