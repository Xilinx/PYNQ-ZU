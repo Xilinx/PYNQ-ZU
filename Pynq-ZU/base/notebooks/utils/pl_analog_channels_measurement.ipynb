{
 "cells": [
  {
   "cell_type": "markdown",
   "metadata": {},
   "source": [
    "# Measuring analog input using the System Management IP\n",
    "---"
   ]
  },
  {
   "cell_type": "markdown",
   "metadata": {},
   "source": [
    "## Aim\n",
    "\n",
    "* This notebook illustrates how to measure the voltage of a unipolar analog signal connected to J14 header.\n",
    "\n",
    "## Revision History\n",
    "\n",
    "* Initial Release\n",
    "\n",
    "---"
   ]
  },
  {
   "cell_type": "markdown",
   "metadata": {},
   "source": [
    "## Load _base_ Overlay"
   ]
  },
  {
   "cell_type": "code",
   "execution_count": 1,
   "metadata": {},
   "outputs": [
    {
     "data": {
      "application/javascript": [
       "\n",
       "try {\n",
       "require(['notebook/js/codecell'], function(codecell) {\n",
       "  codecell.CodeCell.options_default.highlight_modes[\n",
       "      'magic_text/x-csrc'] = {'reg':[/^%%microblaze/]};\n",
       "  Jupyter.notebook.events.one('kernel_ready.Kernel', function(){\n",
       "      Jupyter.notebook.get_cells().map(function(cell){\n",
       "          if (cell.cell_type == 'code'){ cell.auto_highlight(); } }) ;\n",
       "  });\n",
       "});\n",
       "} catch (e) {};\n"
      ]
     },
     "metadata": {},
     "output_type": "display_data"
    },
    {
     "data": {
      "application/javascript": [
       "\n",
       "try {\n",
       "require(['notebook/js/codecell'], function(codecell) {\n",
       "  codecell.CodeCell.options_default.highlight_modes[\n",
       "      'magic_text/x-csrc'] = {'reg':[/^%%pybind11/]};\n",
       "  Jupyter.notebook.events.one('kernel_ready.Kernel', function(){\n",
       "      Jupyter.notebook.get_cells().map(function(cell){\n",
       "          if (cell.cell_type == 'code'){ cell.auto_highlight(); } }) ;\n",
       "  });\n",
       "});\n",
       "} catch (e) {};\n"
      ]
     },
     "metadata": {},
     "output_type": "display_data"
    }
   ],
   "source": [
    "from time import sleep\n",
    "from pynq.overlays.base import BaseOverlay\n",
    "\n",
    "base = BaseOverlay('base.bit')"
   ]
  },
  {
   "cell_type": "markdown",
   "metadata": {},
   "source": [
    "<div class=\"alert alert-box alert-warning\"><ul>\n",
    "    <h4 class=\"alert-heading\">Make Physical Connections</h4>\n",
    "    <li>Connect analog voltages to A1 (Vaux15) and A0 (VAux14). Analog input should be unipolar between 0 and 3.3V.  Make sure AGND pin is connected to the analog source ground.</li>\n",
    "    </ul>\n",
    "</div>"
   ]
  },
  {
   "cell_type": "markdown",
   "metadata": {},
   "source": [
    "### Instantiate the System Management object"
   ]
  },
  {
   "cell_type": "code",
   "execution_count": 2,
   "metadata": {},
   "outputs": [],
   "source": [
    "xadc=base.system_management_wiz_0.mmio"
   ]
  },
  {
   "cell_type": "markdown",
   "metadata": {},
   "source": [
    "### Define register offsets"
   ]
  },
  {
   "cell_type": "markdown",
   "metadata": {},
   "source": [
    "Since there are a number of registers required to measure the analog voltages, define them first."
   ]
  },
  {
   "cell_type": "code",
   "execution_count": 3,
   "metadata": {},
   "outputs": [],
   "source": [
    "# define register offsets, masks related to the System Management IP\n",
    "XSM_SRR_OFFSET=0\n",
    "XSM_SR_OFFSET=4\n",
    "XSM_IP_OFFSET=0x200\n",
    "\n",
    "XSM_AUX14_OFFSET=XSM_IP_OFFSET + 0x278\n",
    "XSM_AUX15_OFFSET=XSM_IP_OFFSET + 0x27C\n",
    "\n",
    "XSM_CFR0_OFFSET=XSM_IP_OFFSET + 0x300\n",
    "XSM_CFR1_OFFSET=XSM_IP_OFFSET + 0x304\n",
    "XSM_CFR2_OFFSET=XSM_IP_OFFSET + 0x308\n",
    "XSM_SEQ00_OFFSET=XSM_IP_OFFSET + 0x320\n",
    "XSM_SEQ01_OFFSET=XSM_IP_OFFSET + 0x324\n",
    "XSM_SEQ02_OFFSET=XSM_IP_OFFSET + 0x328\n",
    "XSM_SEQ03_OFFSET=XSM_IP_OFFSET + 0x32C\n",
    "XSM_SEQ05_OFFSET=XSM_IP_OFFSET + 0x334\n",
    "XSM_SEQ07_OFFSET=XSM_IP_OFFSET + 0x33c\n",
    "\n",
    "XSM_CFR0_AVG_VALID_MASK=0x3000\n",
    "XSM_CFR0_AVG16_MASK=0x1000\n",
    "XSM_CFR1_SEQ_VALID_MASK=0xF000\n",
    "XSM_CFR1_SEQ_SAFEMODE_MASK=0x0000\n",
    "XSM_CFR1_SEQ_CONTINPASS_MASK=0x2000\n",
    "XSM_SRR_IPRST_MASK=0x0000000A\n",
    "XSM_SR_EOS_MASK=0x00000040\n",
    "\n",
    "XSM_SEQ_CH_AUX14=0x40000000\n",
    "XSM_SEQ_CH_AUX15=0x80000000\n",
    "XSM_SEQ_CH_AUX_SHIFT=16\n",
    "XSM_CFR2_CD_SHIFT=8"
   ]
  },
  {
   "cell_type": "markdown",
   "metadata": {},
   "source": [
    "### Perform measurements and display results"
   ]
  },
  {
   "cell_type": "markdown",
   "metadata": {},
   "source": [
    "Reset the IP and configure to measure the analog voltages."
   ]
  },
  {
   "cell_type": "code",
   "execution_count": 4,
   "metadata": {},
   "outputs": [],
   "source": [
    "# Reset the IP\n",
    "xadc.write(XSM_SRR_OFFSET,XSM_SRR_IPRST_MASK)\n",
    "# disable channel sequencer before configuring the sequence register\n",
    "regvalue=xadc.read(XSM_CFR1_OFFSET)\n",
    "xadc.write(XSM_CFR0_OFFSET, (regvalue & ~XSM_CFR1_SEQ_VALID_MASK | XSM_CFR1_SEQ_SAFEMODE_MASK))"
   ]
  },
  {
   "cell_type": "code",
   "execution_count": 5,
   "metadata": {},
   "outputs": [],
   "source": [
    "# Setup the Averaging to be done for the channels in the Configuration 0 register as 16 samples\n",
    "regvalue=xadc.read(XSM_CFR0_OFFSET)\n",
    "xadc.write(XSM_CFR0_OFFSET, (regvalue & ~XSM_CFR0_AVG_VALID_MASK | XSM_CFR0_AVG16_MASK))"
   ]
  },
  {
   "cell_type": "code",
   "execution_count": 6,
   "metadata": {},
   "outputs": [],
   "source": [
    "# Set the Acquisition time for the specified channels\n",
    "xadc.write(XSM_SEQ07_OFFSET,(XSM_SEQ_CH_AUX14 | XSM_SEQ_CH_AUX15) >> XSM_SEQ_CH_AUX_SHIFT)"
   ]
  },
  {
   "cell_type": "code",
   "execution_count": 7,
   "metadata": {},
   "outputs": [],
   "source": [
    "# Enable the averaging on the following channels in the Sequencer registers:\n",
    "# 14th Auxiliary Channel, 15th Auxiliary Channel\n",
    "xadc.write(XSM_SEQ03_OFFSET, (XSM_SEQ_CH_AUX14 | XSM_SEQ_CH_AUX15) >> XSM_SEQ_CH_AUX_SHIFT)"
   ]
  },
  {
   "cell_type": "code",
   "execution_count": 8,
   "metadata": {},
   "outputs": [],
   "source": [
    "# Enable the following channels in the Sequencer registers:\n",
    "# 14th Auxiliary Channel, 15th Auxiliary Channel\n",
    "xadc.write(XSM_SEQ01_OFFSET, (XSM_SEQ_CH_AUX14 | XSM_SEQ_CH_AUX15) >> XSM_SEQ_CH_AUX_SHIFT)"
   ]
  },
  {
   "cell_type": "code",
   "execution_count": 9,
   "metadata": {},
   "outputs": [],
   "source": [
    "# Set the ADCCLK frequency equal to 1/32 of System clock for the System Monitor/ADC in the Configuration Register 2\n",
    "xadc.write(XSM_CFR2_OFFSET,32 << XSM_CFR2_CD_SHIFT)\n",
    "regvalue=xadc.read(XSM_CFR1_OFFSET)\n",
    "xadc.write(XSM_CFR0_OFFSET, (regvalue & ~XSM_CFR1_SEQ_VALID_MASK | XSM_CFR1_SEQ_CONTINPASS_MASK))"
   ]
  },
  {
   "cell_type": "markdown",
   "metadata": {},
   "source": [
    "Wait till the setup is completed, indicated by end of sequence, and then read the voltages at 2 seconds interval."
   ]
  },
  {
   "cell_type": "code",
   "execution_count": 10,
   "metadata": {},
   "outputs": [],
   "source": [
    "# Wait till the End of Sequence occurs\n",
    "xadc.read(XSM_SR_OFFSET)\n",
    "while ((xadc.read(XSM_SR_OFFSET) & XSM_SR_EOS_MASK) != XSM_SR_EOS_MASK):\n",
    "    continue"
   ]
  },
  {
   "cell_type": "code",
   "execution_count": 12,
   "metadata": {},
   "outputs": [
    {
     "name": "stdout",
     "output_type": "stream",
     "text": [
      "Channel 14 voltage: 0.531  V\n",
      "Channel 15 voltage: 3.210  V\n",
      "Channel 14 voltage: 0.529  V\n",
      "Channel 15 voltage: 3.208  V\n",
      "Channel 14 voltage: 0.528  V\n",
      "Channel 15 voltage: 3.208  V\n",
      "Channel 14 voltage: 0.529  V\n",
      "Channel 15 voltage: 3.208  V\n",
      "Channel 14 voltage: 0.529  V\n",
      "Channel 15 voltage: 3.207  V\n"
     ]
    }
   ],
   "source": [
    "# Read the current value of Aux Channel 14 and 15\n",
    "for i in range(5):\n",
    "    print(\"Channel 14 voltage: \"+\"{:.3f}\".format((xadc.read(XSM_AUX14_OFFSET))*3.3/65536),\" V\")\n",
    "    print(\"Channel 15 voltage: \"+\"{:.3f}\".format((xadc.read(XSM_AUX15_OFFSET))*3.3/65536),\" V\")\n",
    "    sleep(2)"
   ]
  },
  {
   "cell_type": "markdown",
   "metadata": {},
   "source": [
    "Copyright (C) 2021 Xilinx, Inc"
   ]
  },
  {
   "cell_type": "markdown",
   "metadata": {},
   "source": [
    "---"
   ]
  },
  {
   "cell_type": "markdown",
   "metadata": {},
   "source": [
    "---"
   ]
  }
 ],
 "metadata": {
  "kernelspec": {
   "display_name": "Python 3",
   "language": "python",
   "name": "python3"
  },
  "language_info": {
   "codemirror_mode": {
    "name": "ipython",
    "version": 3
   },
   "file_extension": ".py",
   "mimetype": "text/x-python",
   "name": "python",
   "nbconvert_exporter": "python",
   "pygments_lexer": "ipython3",
   "version": "3.6.5"
  }
 },
 "nbformat": 4,
 "nbformat_minor": 4
}
