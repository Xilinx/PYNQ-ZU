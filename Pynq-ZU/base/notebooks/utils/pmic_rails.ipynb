{
 "cells": [
  {
   "cell_type": "markdown",
   "metadata": {},
   "source": [
    "# Reading all rails of all three PMICs\n",
    "---"
   ]
  },
  {
   "cell_type": "markdown",
   "metadata": {},
   "source": [
    "## Aim\n",
    "\n",
    "* This notebook illustrates how to read current drawn, operating voltage, and power consumption of various rails.   \n",
    "\n",
    "## Revision History\n",
    "\n",
    "* Initial Release\n",
    "\n",
    "---"
   ]
  },
  {
   "cell_type": "markdown",
   "metadata": {},
   "source": [
    "## Print PMIC rails values\n",
    "The Pynq-ZU has support for monitoring on-board power rails using PMBus. PYNQ exposes these rails through the *get\\_rails* function that returns a dictionary of all of the rails available to be monitored."
   ]
  },
  {
   "cell_type": "code",
   "execution_count": 1,
   "metadata": {},
   "outputs": [
    {
     "data": {
      "application/javascript": [
       "\n",
       "try {\n",
       "require(['notebook/js/codecell'], function(codecell) {\n",
       "  codecell.CodeCell.options_default.highlight_modes[\n",
       "      'magic_text/x-csrc'] = {'reg':[/^%%microblaze/]};\n",
       "  Jupyter.notebook.events.one('kernel_ready.Kernel', function(){\n",
       "      Jupyter.notebook.get_cells().map(function(cell){\n",
       "          if (cell.cell_type == 'code'){ cell.auto_highlight(); } }) ;\n",
       "  });\n",
       "});\n",
       "} catch (e) {};\n"
      ]
     },
     "metadata": {},
     "output_type": "display_data"
    },
    {
     "data": {
      "application/javascript": [
       "\n",
       "try {\n",
       "require(['notebook/js/codecell'], function(codecell) {\n",
       "  codecell.CodeCell.options_default.highlight_modes[\n",
       "      'magic_text/x-csrc'] = {'reg':[/^%%pybind11/]};\n",
       "  Jupyter.notebook.events.one('kernel_ready.Kernel', function(){\n",
       "      Jupyter.notebook.get_cells().map(function(cell){\n",
       "          if (cell.cell_type == 'code'){ cell.auto_highlight(); } }) ;\n",
       "  });\n",
       "});\n",
       "} catch (e) {};\n"
      ]
     },
     "metadata": {},
     "output_type": "display_data"
    }
   ],
   "source": [
    "import pynq\n",
    "rails = pynq.get_rails()"
   ]
  },
  {
   "cell_type": "markdown",
   "metadata": {},
   "source": [
    "The keys of the `rail` dictionary are the names of the voltage rails while the values are `Rail` objects which contain three sensors for the voltage, current and power."
   ]
  },
  {
   "cell_type": "code",
   "execution_count": 2,
   "metadata": {},
   "outputs": [],
   "source": [
    "def rail_info(pmic_voltage, rail_name):        \n",
    "    value = rails[f\"{rail_name}\"]\n",
    "    print(\"{:<25} {:<15} {:<15} {:<15} {:<15}\".format(pmic_voltage,\n",
    "                                                      value.name,\n",
    "                                                      value.voltage.value,\n",
    "                                                      value.current.value,\n",
    "                                                      value.power.value))"
   ]
  },
  {
   "cell_type": "code",
   "execution_count": 3,
   "metadata": {},
   "outputs": [
    {
     "name": "stdout",
     "output_type": "stream",
     "text": [
      "PMIC1_Voltage             Rail            Voltage         Current         Power           \n",
      " ------------------------------------------------------------------------------\n",
      "VCCINT_PWM                INT             0.847           0.5             0.25           \n",
      "MGTAVTT, VCC1V2           1V2             1.199           0.171           0.1875         \n",
      "VCCAUX                    AUX             1.8             0.171           0.28125        \n",
      "VCCO_PSDDR, VCC_HDMI      PSDDR_HDMI      1.203           0.39            0.4375         \n",
      "DP_VCC3V3                 DP_3V3          3.312           0.0             0.0            \n"
     ]
    }
   ],
   "source": [
    "PMIC1_Voltages = {\"VCCINT_PWM\": \"INT\", \"MGTAVTT, VCC1V2\": \"1V2\",\n",
    "                  \"VCCAUX\": \"AUX\", \"VCCO_PSDDR, VCC_HDMI\": \"PSDDR_HDMI\",\n",
    "                  \"DP_VCC3V3\": \"DP_3V3\"}\n",
    "\n",
    "print(\"{:<25} {:<15} {:<15} {:<15} {:<15}\".format(\n",
    "    \"PMIC1_Voltage\", \"Rail\", \"Voltage\", \"Current\", \"Power\"), '\\n', '-' * 78)\n",
    "\n",
    "for k, v in PMIC1_Voltages.items():\n",
    "    rail_info(k, v)"
   ]
  },
  {
   "cell_type": "code",
   "execution_count": 4,
   "metadata": {},
   "outputs": [
    {
     "name": "stdout",
     "output_type": "stream",
     "text": [
      "PMIC2_Voltage             Rail            Voltage         Current         Power           \n",
      " ------------------------------------------------------------------------------\n",
      "VCC3V3_PWM                3V3             3.289           0.5             1.5            \n",
      "VCC_PSINTLP               PSINTLP         0.851           0.281           0.21875        \n",
      "VCC_PSAUX                 PSAUX           1.796           0.218           0.375          \n",
      "VCC_PSINTFP               PSINTFP         0.843           1.109           1.15625        \n",
      "RPIO_3V3                  RPIO_3V3        3.312           0.0             0.0            \n"
     ]
    }
   ],
   "source": [
    "PMIC2_Voltages = {\"VCC3V3_PWM\": \"3V3\", \"VCC_PSINTLP\": \"PSINTLP\",\n",
    "                  \"VCC_PSAUX\": \"PSAUX\", \"VCC_PSINTFP\": \"PSINTFP\",\n",
    "                  \"RPIO_3V3\": \"RPIO_3V3\"}\n",
    "\n",
    "print(\"{:<25} {:<15} {:<15} {:<15} {:<15}\".format(\n",
    "    \"PMIC2_Voltage\", \"Rail\", \"Voltage\", \"Current\", \"Power\"), '\\n', '-' * 78)\n",
    "\n",
    "for k, v in PMIC2_Voltages.items():\n",
    "    rail_info(k, v)"
   ]
  },
  {
   "cell_type": "code",
   "execution_count": 5,
   "metadata": {},
   "outputs": [
    {
     "name": "stdout",
     "output_type": "stream",
     "text": [
      "PMIC3_Voltage             Rail            Voltage         Current         Power           \n",
      " ------------------------------------------------------------------------------\n",
      "VCC2V5                    2V5             2.496           0.0             0.0            \n",
      "SYZYGY_3V3                SYZYGY_3V3      3.296           0.0             0.0            \n",
      "SYZYGY_VIO                SYZYGY_VIO      1.195           0.0             0.0            \n",
      "SYZYGY_5V0                SYZYGY_5V0      5.007           0.0             0.0            \n",
      "MGTAVCC                   MGTA            0.914           0.08            0.078125       \n"
     ]
    }
   ],
   "source": [
    "PMIC3_Voltages = {\"VCC2V5\": \"2V5\", \"SYZYGY_3V3\": \"SYZYGY_3V3\",\n",
    "                  \"SYZYGY_VIO\": \"SYZYGY_VIO\", \"SYZYGY_5V0\": \"SYZYGY_5V0\",\n",
    "                  \"MGTAVCC\": \"MGTA\"}\n",
    "\n",
    "print(\"{:<25} {:<15} {:<15} {:<15} {:<15}\".format(\n",
    "    \"PMIC3_Voltage\", \"Rail\", \"Voltage\", \"Current\", \"Power\"), '\\n', '-' * 78)\n",
    "\n",
    "for k, v in PMIC3_Voltages.items():\n",
    "    rail_info(k, v)"
   ]
  },
  {
   "cell_type": "markdown",
   "metadata": {},
   "source": [
    "Copyright (C) 2021 Xilinx, Inc"
   ]
  },
  {
   "cell_type": "markdown",
   "metadata": {},
   "source": [
    "---"
   ]
  },
  {
   "cell_type": "markdown",
   "metadata": {},
   "source": [
    "---"
   ]
  }
 ],
 "metadata": {
  "kernelspec": {
   "display_name": "Python 3",
   "language": "python",
   "name": "python3"
  },
  "language_info": {
   "codemirror_mode": {
    "name": "ipython",
    "version": 3
   },
   "file_extension": ".py",
   "mimetype": "text/x-python",
   "name": "python",
   "nbconvert_exporter": "python",
   "pygments_lexer": "ipython3",
   "version": "3.6.5"
  }
 },
 "nbformat": 4,
 "nbformat_minor": 4
}
