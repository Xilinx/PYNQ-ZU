{
 "cells": [
  {
   "cell_type": "markdown",
   "metadata": {},
   "source": [
    "# Temperature Reading of PMICs (all switchers) and FPGA Core\n",
    "---"
   ]
  },
  {
   "cell_type": "markdown",
   "metadata": {},
   "source": [
    "## Aim\n",
    "\n",
    "* This notebook illustrates how to measure the PMIC switchers' temperature and the FPGA's core temperature to observe what impact your application is having on the power sources' temperatures and FPGA core.\n",
    "\n",
    "## Revision History\n",
    "\n",
    "* Initial Release\n",
    "\n",
    "---"
   ]
  },
  {
   "cell_type": "markdown",
   "metadata": {},
   "source": [
    "## Load _base_ Overlay"
   ]
  },
  {
   "cell_type": "code",
   "execution_count": 1,
   "metadata": {},
   "outputs": [
    {
     "data": {
      "application/javascript": [
       "\n",
       "try {\n",
       "require(['notebook/js/codecell'], function(codecell) {\n",
       "  codecell.CodeCell.options_default.highlight_modes[\n",
       "      'magic_text/x-csrc'] = {'reg':[/^%%microblaze/]};\n",
       "  Jupyter.notebook.events.one('kernel_ready.Kernel', function(){\n",
       "      Jupyter.notebook.get_cells().map(function(cell){\n",
       "          if (cell.cell_type == 'code'){ cell.auto_highlight(); } }) ;\n",
       "  });\n",
       "});\n",
       "} catch (e) {};\n"
      ]
     },
     "metadata": {},
     "output_type": "display_data"
    },
    {
     "data": {
      "application/javascript": [
       "\n",
       "try {\n",
       "require(['notebook/js/codecell'], function(codecell) {\n",
       "  codecell.CodeCell.options_default.highlight_modes[\n",
       "      'magic_text/x-csrc'] = {'reg':[/^%%pybind11/]};\n",
       "  Jupyter.notebook.events.one('kernel_ready.Kernel', function(){\n",
       "      Jupyter.notebook.get_cells().map(function(cell){\n",
       "          if (cell.cell_type == 'code'){ cell.auto_highlight(); } }) ;\n",
       "  });\n",
       "});\n",
       "} catch (e) {};\n"
      ]
     },
     "metadata": {},
     "output_type": "display_data"
    }
   ],
   "source": [
    "from pynq.overlays.base import BaseOverlay\n",
    "base=BaseOverlay('base.bit')"
   ]
  },
  {
   "cell_type": "markdown",
   "metadata": {},
   "source": [
    "Load SMBus since PMIC devices are connected using SMBus through channel 3 of the I2C MUX"
   ]
  },
  {
   "cell_type": "code",
   "execution_count": 2,
   "metadata": {},
   "outputs": [],
   "source": [
    "from smbus2 import *\n",
    "bus = SMBus(3)"
   ]
  },
  {
   "cell_type": "markdown",
   "metadata": {},
   "source": [
    "### Reading PMIC1 to PMIC3 Temperature"
   ]
  },
  {
   "cell_type": "markdown",
   "metadata": {},
   "source": [
    "PMIC1 is addressed at 0x43, PMIC2 at 0x44, and PMIC3 at 0x46. Select each PMIC at a time, and read all five switchers of the PMIC."
   ]
  },
  {
   "cell_type": "code",
   "execution_count": 3,
   "metadata": {},
   "outputs": [
    {
     "name": "stdout",
     "output_type": "stream",
     "text": [
      "PMIC 1 =Switcher A : 38 degree C\n",
      "PMIC 1 =Switcher B : 38 degree C\n",
      "PMIC 1 =Switcher C : 37 degree C\n",
      "PMIC 1 =Switcher D : 37 degree C\n",
      "PMIC 1 =Switcher LDO : 38 degree C\n",
      "PMIC 2 =Switcher A : 43 degree C\n",
      "PMIC 2 =Switcher B : 43 degree C\n",
      "PMIC 2 =Switcher C : 44 degree C\n",
      "PMIC 2 =Switcher D : 44 degree C\n",
      "PMIC 2 =Switcher LDO : 44 degree C\n",
      "PMIC 3 =Switcher A : 48 degree C\n",
      "PMIC 3 =Switcher B : 48 degree C\n",
      "PMIC 3 =Switcher C : 47 degree C\n",
      "PMIC 3 =Switcher D : 47 degree C\n",
      "PMIC 3 =Switcher LDO : 47 degree C\n"
     ]
    }
   ],
   "source": [
    "for i in range(3):\n",
    "    if i==0:\n",
    "        address = 0x43\n",
    "    elif i==1:\n",
    "        address = 0x44\n",
    "    else:\n",
    "        address = 0x46\n",
    "    for switcher in range(5):\n",
    "        write1 = i2c_msg.write(address, [0x0, switcher])\n",
    "        write = i2c_msg.write(address, [0x8D])\n",
    "        read = i2c_msg.read(address, 2)\n",
    "        with SMBus(3) as bus:\n",
    "            bus.i2c_rdwr(write1)\n",
    "            bus.i2c_rdwr(write, read)\n",
    "            read_data=list(read)\n",
    "            if switcher == 0:\n",
    "                switcher_char = 'A'\n",
    "            elif switcher == 1:\n",
    "                switcher_char = 'B'\n",
    "            elif switcher == 2:\n",
    "                switcher_char = 'C'\n",
    "            elif switcher == 3:\n",
    "                switcher_char = 'D'\n",
    "            else:\n",
    "                switcher_char = 'LDO'        \n",
    "            print('PMIC',i+1,'=Switcher',switcher_char,':', read_data[0], 'degree C')\n"
   ]
  },
  {
   "cell_type": "markdown",
   "metadata": {},
   "source": [
    "### Core temperature reading"
   ]
  },
  {
   "cell_type": "markdown",
   "metadata": {},
   "source": [
    "FPGA core temperature can be read through the System Management IP of the FPGA. Instantiate the IP and define the required registers."
   ]
  },
  {
   "cell_type": "code",
   "execution_count": 4,
   "metadata": {},
   "outputs": [],
   "source": [
    "from time import sleep\n",
    "xadc=base.system_management_wiz_0.mmio\n",
    "# define registers offset, masks related to System Management IP\n",
    "XSM_SRR_OFFSET=0\n",
    "XSM_SRR_IPRST_MASK=0x0000000A\n",
    "XSM_IP_OFFSET=0x200\n",
    "XSM_CFR1_SEQ_VALID_MASK=0xF000\n",
    "XSM_CFR1_SEQ_SAFEMODE_MASK=0x0000\n",
    "XSM_TEMP_OFFSET=XSM_IP_OFFSET+0x200\n",
    "XSM_CFR0_OFFSET=XSM_IP_OFFSET + 0x300\n",
    "XSM_CFR1_OFFSET=XSM_IP_OFFSET + 0x304"
   ]
  },
  {
   "cell_type": "markdown",
   "metadata": {},
   "source": [
    "Reset the IP and configure to measure the Core temperature."
   ]
  },
  {
   "cell_type": "code",
   "execution_count": 5,
   "metadata": {},
   "outputs": [],
   "source": [
    "# Reset the IP\n",
    "xadc.write(XSM_SRR_OFFSET,XSM_SRR_IPRST_MASK)\n",
    "# disable channel sequencer before configuring the sequence register\n",
    "regvalue=xadc.read(XSM_CFR1_OFFSET)\n",
    "xadc.write(XSM_CFR0_OFFSET, (regvalue & ~XSM_CFR1_SEQ_VALID_MASK | XSM_CFR1_SEQ_SAFEMODE_MASK))"
   ]
  },
  {
   "cell_type": "markdown",
   "metadata": {},
   "source": [
    "Measure every 2 seconds for five times and display the result."
   ]
  },
  {
   "cell_type": "code",
   "execution_count": 6,
   "metadata": {},
   "outputs": [
    {
     "name": "stdout",
     "output_type": "stream",
     "text": [
      "Core temperature: 32.60\n",
      "Core temperature: 33.52\n",
      "Core temperature: 32.10\n",
      "Core temperature: 31.38\n",
      "Core temperature: 33.32\n"
     ]
    }
   ],
   "source": [
    "# Read the current value of the on-chip temperature and VCCAUX voltage\n",
    "for i in range(5):\n",
    "    print(\"Core temperature: \"+\"{:.2f}\".format(((xadc.read(XSM_TEMP_OFFSET))/65536)/0.00199451786-273.67))\n",
    "    sleep(2)"
   ]
  },
  {
   "cell_type": "markdown",
   "metadata": {},
   "source": [
    "Copyright (C) 2021 Xilinx, Inc"
   ]
  },
  {
   "cell_type": "markdown",
   "metadata": {},
   "source": [
    "---"
   ]
  },
  {
   "cell_type": "markdown",
   "metadata": {},
   "source": [
    "---"
   ]
  }
 ],
 "metadata": {
  "kernelspec": {
   "display_name": "Python 3",
   "language": "python",
   "name": "python3"
  },
  "language_info": {
   "codemirror_mode": {
    "name": "ipython",
    "version": 3
   },
   "file_extension": ".py",
   "mimetype": "text/x-python",
   "name": "python",
   "nbconvert_exporter": "python",
   "pygments_lexer": "ipython3",
   "version": "3.6.5"
  }
 },
 "nbformat": 4,
 "nbformat_minor": 4
}
