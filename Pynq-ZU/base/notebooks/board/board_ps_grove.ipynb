{
 "cells": [
  {
   "cell_type": "markdown",
   "metadata": {},
   "source": [
    "# Grove ADC module using PS-Grove \n",
    "---"
   ]
  },
  {
   "cell_type": "markdown",
   "metadata": {},
   "source": [
    "## Aim\n",
    "\n",
    "* This notebook illustrates how to use a Grove ADC module plugged-in into the PS-GC connector from the ARM processor.\n",
    "\n",
    "## References\n",
    "* [Grove ADC](https://www.seeedstudio.com/Grove-I2C-ADC.html)    \n",
    "\n",
    "## Revision History\n",
    "\n",
    "* Initial Release\n",
    "\n",
    "---"
   ]
  },
  {
   "cell_type": "markdown",
   "metadata": {},
   "source": [
    "The PS-GC connector is routed directly to the I2C channel-1 of the processor's IO block. The I2C channel-1 is always available as it is enabled during the board bootup. The I2C device can be detected using the `i2cdetect` command and passing the channel number.  As the `i2cdetect` is a Linux command, use IPython REPL to execute OS shell commands directly from within a code cell by preceding the command with **!**.   \n",
    "\n",
    "Keep the PS-GC connector unplugged and run the following cell"
   ]
  },
  {
   "cell_type": "code",
   "execution_count": 1,
   "metadata": {},
   "outputs": [
    {
     "name": "stdout",
     "output_type": "stream",
     "text": [
      "Warning: Can't use SMBus Quick Write command, will skip some addresses\r\n",
      "     0  1  2  3  4  5  6  7  8  9  a  b  c  d  e  f\r\n",
      "00:                                                 \r\n",
      "10:                                                 \r\n",
      "20:                                                 \r\n",
      "30: -- -- -- -- -- -- -- --                         \r\n",
      "40:                                                 \r\n",
      "50: -- -- -- -- -- -- -- -- -- -- -- -- -- -- -- -- \r\n",
      "60:                                                 \r\n",
      "70:                                                 \r\n"
     ]
    }
   ],
   "source": [
    "!sudo -- bash -c 'i2cdetect -y 1'"
   ]
  },
  {
   "cell_type": "markdown",
   "metadata": {},
   "source": [
    "### Verify that the I2C device is detected"
   ]
  },
  {
   "cell_type": "markdown",
   "metadata": {},
   "source": [
    "Plug in the Grove_ADC module in the PS-GC connector. The Grove_ADC has I2C address of 0x50"
   ]
  },
  {
   "cell_type": "code",
   "execution_count": 2,
   "metadata": {},
   "outputs": [
    {
     "name": "stdout",
     "output_type": "stream",
     "text": [
      "Warning: Can't use SMBus Quick Write command, will skip some addresses\r\n",
      "     0  1  2  3  4  5  6  7  8  9  a  b  c  d  e  f\r\n",
      "00:                                                 \r\n",
      "10:                                                 \r\n",
      "20:                                                 \r\n",
      "30: -- -- -- -- -- -- -- --                         \r\n",
      "40:                                                 \r\n",
      "50: 50 -- -- -- -- -- -- -- -- -- -- -- -- -- -- -- \r\n",
      "60:                                                 \r\n",
      "70:                                                 \r\n"
     ]
    }
   ],
   "source": [
    "!sudo -- bash -c 'i2cdetect -y 1'"
   ]
  },
  {
   "cell_type": "markdown",
   "metadata": {},
   "source": [
    "### Setting up the module to read the ADC output"
   ]
  },
  {
   "cell_type": "markdown",
   "metadata": {},
   "source": [
    "Issue a write command to set the register address to 0 from where ADC output can be read"
   ]
  },
  {
   "cell_type": "code",
   "execution_count": 3,
   "metadata": {},
   "outputs": [],
   "source": [
    "!sudo -- bash -c 'i2cset -y 1 0x50 00'"
   ]
  },
  {
   "cell_type": "markdown",
   "metadata": {},
   "source": [
    "<div class=\"alert alert-box alert-warning\"><ul>\n",
    "    <h4 class=\"alert-heading\">Make Physical Connections</h4>\n",
    "    <li>Connect the some analog source such as Grove Temperature or Grove Potentiometer module to the J2 connector of the Grove ADC module and connect the J1 connector of the Grove ADC module to the PS-GC.</li>\n",
    "</ul>\n",
    "</div>"
   ]
  },
  {
   "cell_type": "markdown",
   "metadata": {},
   "source": [
    "Read ADC output five times at 2 seconds interval. Make analog signal change during the run. Note 16-bit data read is in Big Endian format. It will first be converted to Little Endian, and then converted to a real voltage."
   ]
  },
  {
   "cell_type": "code",
   "execution_count": 4,
   "metadata": {},
   "outputs": [
    {
     "name": "stdout",
     "output_type": "stream",
     "text": [
      "Read voltage: 1.442\n",
      "Read voltage: 1.460\n",
      "Read voltage: 1.464\n",
      "Read voltage: 1.567\n",
      "Read voltage: 1.607\n"
     ]
    }
   ],
   "source": [
    "from time import sleep\n",
    "from math import log\n",
    "def swap16(x):\n",
    "    return (((x << 8) & 0xFF00) |\n",
    "            ((x >> 8) & 0x00FF))\n",
    "for i in range(5):\n",
    "    value=!sudo -- bash -c 'i2cget -y 1 0x50 00 w'\n",
    "    valueI=int(value[0],16)\n",
    "    val=swap16(valueI)\n",
    "    valr=val*0.000244140625*3.1\n",
    "    print(\"Read voltage: %.3f\" %valr)\n",
    "    sleep(2)"
   ]
  },
  {
   "cell_type": "markdown",
   "metadata": {},
   "source": [
    "Copyright (C) 2021 Xilinx, Inc"
   ]
  },
  {
   "cell_type": "markdown",
   "metadata": {},
   "source": [
    "---"
   ]
  },
  {
   "cell_type": "markdown",
   "metadata": {},
   "source": [
    "---"
   ]
  }
 ],
 "metadata": {
  "kernelspec": {
   "display_name": "Python 3",
   "language": "python",
   "name": "python3"
  },
  "language_info": {
   "codemirror_mode": {
    "name": "ipython",
    "version": 3
   },
   "file_extension": ".py",
   "mimetype": "text/x-python",
   "name": "python",
   "nbconvert_exporter": "python",
   "pygments_lexer": "ipython3",
   "version": "3.6.5"
  }
 },
 "nbformat": 4,
 "nbformat_minor": 4
}
