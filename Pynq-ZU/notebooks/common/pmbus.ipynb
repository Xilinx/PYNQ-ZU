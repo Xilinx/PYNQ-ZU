{
 "cells": [
  {
   "cell_type": "markdown",
   "metadata": {},
   "source": [
    "# PMBus on the Pynq-ZU\n",
    "---"
   ]
  },
  {
   "cell_type": "markdown",
   "metadata": {},
   "source": [
    "## Aim\n",
    "\n",
    "* This notebook illustrates how to read current drawn, operating voltage, and power consumption of the various power rails.   \n",
    "\n",
    "## Revision History\n",
    "\n",
    "* Initial Release\n",
    "\n",
    "---"
   ]
  },
  {
   "cell_type": "markdown",
   "metadata": {},
   "source": [
    "## Print power rails values\n",
    "The Pynq-ZU has support for monitoring on-board power rails using PMBus. PYNQ exposes these rails through the get_rails function that returns a dictionary of all of the rails available to be monitored."
   ]
  },
  {
   "cell_type": "code",
   "execution_count": 1,
   "metadata": {
    "scrolled": true
   },
   "outputs": [
    {
     "data": {
      "application/javascript": [
       "\n",
       "try {\n",
       "require(['notebook/js/codecell'], function(codecell) {\n",
       "  codecell.CodeCell.options_default.highlight_modes[\n",
       "      'magic_text/x-csrc'] = {'reg':[/^%%microblaze/]};\n",
       "  Jupyter.notebook.events.one('kernel_ready.Kernel', function(){\n",
       "      Jupyter.notebook.get_cells().map(function(cell){\n",
       "          if (cell.cell_type == 'code'){ cell.auto_highlight(); } }) ;\n",
       "  });\n",
       "});\n",
       "} catch (e) {};\n"
      ]
     },
     "metadata": {},
     "output_type": "display_data"
    },
    {
     "data": {
      "application/javascript": [
       "\n",
       "try {\n",
       "require(['notebook/js/codecell'], function(codecell) {\n",
       "  codecell.CodeCell.options_default.highlight_modes[\n",
       "      'magic_text/x-csrc'] = {'reg':[/^%%pybind11/]};\n",
       "  Jupyter.notebook.events.one('kernel_ready.Kernel', function(){\n",
       "      Jupyter.notebook.get_cells().map(function(cell){\n",
       "          if (cell.cell_type == 'code'){ cell.auto_highlight(); } }) ;\n",
       "  });\n",
       "});\n",
       "} catch (e) {};\n"
      ]
     },
     "metadata": {},
     "output_type": "display_data"
    },
    {
     "name": "stdout",
     "output_type": "stream",
     "text": [
      "Rail            Voltage         Current         Power           \n",
      " ----------------------------------------------------\n",
      "2V5             2.503           0.0             0.0            \n",
      "SYZYGY_3V3      3.296           0.0             0.0            \n",
      "SYZYGY_VIO      1.203           0.0             0.0            \n",
      "SYZYGY_5V0      5.0             0.0             0.0            \n",
      "MGTA            0.914           0.08            0.078125       \n",
      "INT             0.867           0.5             0.25           \n",
      "1V2             1.199           0.171           0.1875         \n",
      "AUX             1.8             0.171           0.28125        \n",
      "PSDDR_HDMI      1.203           0.328           0.375          \n",
      "DP_3V3          3.312           0.0             0.0            \n",
      "3V3             3.296           0.5             1.5            \n",
      "PSINTLP         0.851           0.281           0.21875        \n",
      "PSAUX           1.796           0.218           0.375          \n",
      "PSINTFP         0.843           1.093           0.96875        \n",
      "RPIO_3V3        3.312           0.0             0.0            \n"
     ]
    }
   ],
   "source": [
    "import pynq\n",
    "\n",
    "rails = pynq.get_rails()\n",
    "\n",
    "print(\"{:<15} {:<15} {:<15} {:<15}\".format(\"Rail\", \"Voltage\", \"Current\", \"Power\"),'\\n','-' * 52)\n",
    "for value in rails.values():\n",
    "    print(\"{:<15} {:<15} {:<15} {:<15}\".format(value.name,\n",
    "                                               value.voltage.value,\n",
    "                                               value.current.value,\n",
    "                                               value.power.value))\n"
   ]
  },
  {
   "cell_type": "markdown",
   "metadata": {},
   "source": [
    "As can be seen, the keys of the `rails` dictionary are the names of the voltage rails while the values are `Rail` objects which contain three sensors for the voltage, current and power."
   ]
  },
  {
   "cell_type": "markdown",
   "metadata": {},
   "source": [
    "## Record and display power values over time\n",
    "To see how power changes over time, we can use the `DataRecorder` class. For example, monitor power of the `PSINTFP` line every half second while sleeping and performing a dummy loop."
   ]
  },
  {
   "cell_type": "code",
   "execution_count": 2,
   "metadata": {},
   "outputs": [],
   "source": [
    "recorder = pynq.DataRecorder(rails['PSINTFP'].power)"
   ]
  },
  {
   "cell_type": "code",
   "execution_count": 3,
   "metadata": {},
   "outputs": [],
   "source": [
    "import time\n",
    "with recorder.record(0.5):\n",
    "    time.sleep(10)\n",
    "    for _ in range(10000000):\n",
    "        pass\n",
    "    time.sleep(10)"
   ]
  },
  {
   "cell_type": "markdown",
   "metadata": {},
   "source": [
    "The `DataRecorder` exposes the sensor data as a pandas dataframe"
   ]
  },
  {
   "cell_type": "code",
   "execution_count": 4,
   "metadata": {},
   "outputs": [
    {
     "data": {
      "text/html": [
       "<div>\n",
       "<style scoped>\n",
       "    .dataframe tbody tr th:only-of-type {\n",
       "        vertical-align: middle;\n",
       "    }\n",
       "\n",
       "    .dataframe tbody tr th {\n",
       "        vertical-align: top;\n",
       "    }\n",
       "\n",
       "    .dataframe thead th {\n",
       "        text-align: right;\n",
       "    }\n",
       "</style>\n",
       "<table border=\"1\" class=\"dataframe\">\n",
       "  <thead>\n",
       "    <tr style=\"text-align: right;\">\n",
       "      <th></th>\n",
       "      <th>Mark</th>\n",
       "      <th>PSINTFP_power</th>\n",
       "    </tr>\n",
       "  </thead>\n",
       "  <tbody>\n",
       "    <tr>\n",
       "      <th>2021-02-25 01:52:51.894467</th>\n",
       "      <td>0.0</td>\n",
       "      <td>1.12500</td>\n",
       "    </tr>\n",
       "    <tr>\n",
       "      <th>2021-02-25 01:52:52.420726</th>\n",
       "      <td>0.0</td>\n",
       "      <td>1.12500</td>\n",
       "    </tr>\n",
       "    <tr>\n",
       "      <th>2021-02-25 01:52:52.953378</th>\n",
       "      <td>0.0</td>\n",
       "      <td>0.90625</td>\n",
       "    </tr>\n",
       "    <tr>\n",
       "      <th>2021-02-25 01:52:53.467222</th>\n",
       "      <td>0.0</td>\n",
       "      <td>0.90625</td>\n",
       "    </tr>\n",
       "    <tr>\n",
       "      <th>2021-02-25 01:52:54.003281</th>\n",
       "      <td>0.0</td>\n",
       "      <td>0.90625</td>\n",
       "    </tr>\n",
       "    <tr>\n",
       "      <th>2021-02-25 01:52:54.514208</th>\n",
       "      <td>0.0</td>\n",
       "      <td>0.90625</td>\n",
       "    </tr>\n",
       "    <tr>\n",
       "      <th>2021-02-25 01:52:55.052820</th>\n",
       "      <td>0.0</td>\n",
       "      <td>0.93750</td>\n",
       "    </tr>\n",
       "    <tr>\n",
       "      <th>2021-02-25 01:52:55.566396</th>\n",
       "      <td>0.0</td>\n",
       "      <td>0.93750</td>\n",
       "    </tr>\n",
       "    <tr>\n",
       "      <th>2021-02-25 01:52:56.101779</th>\n",
       "      <td>0.0</td>\n",
       "      <td>0.96875</td>\n",
       "    </tr>\n",
       "    <tr>\n",
       "      <th>2021-02-25 01:52:56.615305</th>\n",
       "      <td>0.0</td>\n",
       "      <td>0.96875</td>\n",
       "    </tr>\n",
       "    <tr>\n",
       "      <th>2021-02-25 01:52:57.150913</th>\n",
       "      <td>0.0</td>\n",
       "      <td>0.93750</td>\n",
       "    </tr>\n",
       "    <tr>\n",
       "      <th>2021-02-25 01:52:57.664817</th>\n",
       "      <td>0.0</td>\n",
       "      <td>0.93750</td>\n",
       "    </tr>\n",
       "    <tr>\n",
       "      <th>2021-02-25 01:52:58.200132</th>\n",
       "      <td>0.0</td>\n",
       "      <td>0.93750</td>\n",
       "    </tr>\n",
       "    <tr>\n",
       "      <th>2021-02-25 01:52:58.716171</th>\n",
       "      <td>0.0</td>\n",
       "      <td>0.93750</td>\n",
       "    </tr>\n",
       "    <tr>\n",
       "      <th>2021-02-25 01:52:59.252793</th>\n",
       "      <td>0.0</td>\n",
       "      <td>0.90625</td>\n",
       "    </tr>\n",
       "    <tr>\n",
       "      <th>2021-02-25 01:52:59.766508</th>\n",
       "      <td>0.0</td>\n",
       "      <td>0.90625</td>\n",
       "    </tr>\n",
       "    <tr>\n",
       "      <th>2021-02-25 01:53:00.301926</th>\n",
       "      <td>0.0</td>\n",
       "      <td>0.90625</td>\n",
       "    </tr>\n",
       "    <tr>\n",
       "      <th>2021-02-25 01:53:00.812370</th>\n",
       "      <td>0.0</td>\n",
       "      <td>0.90625</td>\n",
       "    </tr>\n",
       "    <tr>\n",
       "      <th>2021-02-25 01:53:01.347695</th>\n",
       "      <td>0.0</td>\n",
       "      <td>0.90625</td>\n",
       "    </tr>\n",
       "    <tr>\n",
       "      <th>2021-02-25 01:53:01.861101</th>\n",
       "      <td>0.0</td>\n",
       "      <td>0.90625</td>\n",
       "    </tr>\n",
       "    <tr>\n",
       "      <th>2021-02-25 01:53:02.406755</th>\n",
       "      <td>0.0</td>\n",
       "      <td>1.15625</td>\n",
       "    </tr>\n",
       "    <tr>\n",
       "      <th>2021-02-25 01:53:02.937564</th>\n",
       "      <td>0.0</td>\n",
       "      <td>1.15625</td>\n",
       "    </tr>\n",
       "    <tr>\n",
       "      <th>2021-02-25 01:53:03.485814</th>\n",
       "      <td>0.0</td>\n",
       "      <td>1.15625</td>\n",
       "    </tr>\n",
       "    <tr>\n",
       "      <th>2021-02-25 01:53:04.012644</th>\n",
       "      <td>0.0</td>\n",
       "      <td>1.15625</td>\n",
       "    </tr>\n",
       "    <tr>\n",
       "      <th>2021-02-25 01:53:04.565863</th>\n",
       "      <td>0.0</td>\n",
       "      <td>1.03125</td>\n",
       "    </tr>\n",
       "    <tr>\n",
       "      <th>2021-02-25 01:53:05.108279</th>\n",
       "      <td>0.0</td>\n",
       "      <td>1.03125</td>\n",
       "    </tr>\n",
       "    <tr>\n",
       "      <th>2021-02-25 01:53:05.646136</th>\n",
       "      <td>0.0</td>\n",
       "      <td>1.00000</td>\n",
       "    </tr>\n",
       "    <tr>\n",
       "      <th>2021-02-25 01:53:06.156732</th>\n",
       "      <td>0.0</td>\n",
       "      <td>1.00000</td>\n",
       "    </tr>\n",
       "    <tr>\n",
       "      <th>2021-02-25 01:53:06.692050</th>\n",
       "      <td>0.0</td>\n",
       "      <td>1.00000</td>\n",
       "    </tr>\n",
       "    <tr>\n",
       "      <th>2021-02-25 01:53:07.203511</th>\n",
       "      <td>0.0</td>\n",
       "      <td>1.00000</td>\n",
       "    </tr>\n",
       "    <tr>\n",
       "      <th>2021-02-25 01:53:07.739839</th>\n",
       "      <td>0.0</td>\n",
       "      <td>1.00000</td>\n",
       "    </tr>\n",
       "    <tr>\n",
       "      <th>2021-02-25 01:53:08.250432</th>\n",
       "      <td>0.0</td>\n",
       "      <td>1.00000</td>\n",
       "    </tr>\n",
       "    <tr>\n",
       "      <th>2021-02-25 01:53:08.784642</th>\n",
       "      <td>0.0</td>\n",
       "      <td>1.00000</td>\n",
       "    </tr>\n",
       "    <tr>\n",
       "      <th>2021-02-25 01:53:09.295743</th>\n",
       "      <td>0.0</td>\n",
       "      <td>1.00000</td>\n",
       "    </tr>\n",
       "    <tr>\n",
       "      <th>2021-02-25 01:53:09.828305</th>\n",
       "      <td>0.0</td>\n",
       "      <td>1.00000</td>\n",
       "    </tr>\n",
       "    <tr>\n",
       "      <th>2021-02-25 01:53:10.343179</th>\n",
       "      <td>0.0</td>\n",
       "      <td>1.00000</td>\n",
       "    </tr>\n",
       "    <tr>\n",
       "      <th>2021-02-25 01:53:10.878871</th>\n",
       "      <td>0.0</td>\n",
       "      <td>1.03125</td>\n",
       "    </tr>\n",
       "    <tr>\n",
       "      <th>2021-02-25 01:53:11.393074</th>\n",
       "      <td>0.0</td>\n",
       "      <td>1.03125</td>\n",
       "    </tr>\n",
       "    <tr>\n",
       "      <th>2021-02-25 01:53:11.928408</th>\n",
       "      <td>0.0</td>\n",
       "      <td>1.03125</td>\n",
       "    </tr>\n",
       "    <tr>\n",
       "      <th>2021-02-25 01:53:12.441313</th>\n",
       "      <td>0.0</td>\n",
       "      <td>1.03125</td>\n",
       "    </tr>\n",
       "    <tr>\n",
       "      <th>2021-02-25 01:53:12.975392</th>\n",
       "      <td>0.0</td>\n",
       "      <td>0.90625</td>\n",
       "    </tr>\n",
       "    <tr>\n",
       "      <th>2021-02-25 01:53:13.488893</th>\n",
       "      <td>0.0</td>\n",
       "      <td>0.90625</td>\n",
       "    </tr>\n",
       "    <tr>\n",
       "      <th>2021-02-25 01:53:14.024340</th>\n",
       "      <td>0.0</td>\n",
       "      <td>1.00000</td>\n",
       "    </tr>\n",
       "    <tr>\n",
       "      <th>2021-02-25 01:53:14.538692</th>\n",
       "      <td>0.0</td>\n",
       "      <td>1.00000</td>\n",
       "    </tr>\n",
       "    <tr>\n",
       "      <th>2021-02-25 01:53:15.074731</th>\n",
       "      <td>0.0</td>\n",
       "      <td>1.03125</td>\n",
       "    </tr>\n",
       "  </tbody>\n",
       "</table>\n",
       "</div>"
      ],
      "text/plain": [
       "                            Mark  PSINTFP_power\n",
       "2021-02-25 01:52:51.894467   0.0        1.12500\n",
       "2021-02-25 01:52:52.420726   0.0        1.12500\n",
       "2021-02-25 01:52:52.953378   0.0        0.90625\n",
       "2021-02-25 01:52:53.467222   0.0        0.90625\n",
       "2021-02-25 01:52:54.003281   0.0        0.90625\n",
       "2021-02-25 01:52:54.514208   0.0        0.90625\n",
       "2021-02-25 01:52:55.052820   0.0        0.93750\n",
       "2021-02-25 01:52:55.566396   0.0        0.93750\n",
       "2021-02-25 01:52:56.101779   0.0        0.96875\n",
       "2021-02-25 01:52:56.615305   0.0        0.96875\n",
       "2021-02-25 01:52:57.150913   0.0        0.93750\n",
       "2021-02-25 01:52:57.664817   0.0        0.93750\n",
       "2021-02-25 01:52:58.200132   0.0        0.93750\n",
       "2021-02-25 01:52:58.716171   0.0        0.93750\n",
       "2021-02-25 01:52:59.252793   0.0        0.90625\n",
       "2021-02-25 01:52:59.766508   0.0        0.90625\n",
       "2021-02-25 01:53:00.301926   0.0        0.90625\n",
       "2021-02-25 01:53:00.812370   0.0        0.90625\n",
       "2021-02-25 01:53:01.347695   0.0        0.90625\n",
       "2021-02-25 01:53:01.861101   0.0        0.90625\n",
       "2021-02-25 01:53:02.406755   0.0        1.15625\n",
       "2021-02-25 01:53:02.937564   0.0        1.15625\n",
       "2021-02-25 01:53:03.485814   0.0        1.15625\n",
       "2021-02-25 01:53:04.012644   0.0        1.15625\n",
       "2021-02-25 01:53:04.565863   0.0        1.03125\n",
       "2021-02-25 01:53:05.108279   0.0        1.03125\n",
       "2021-02-25 01:53:05.646136   0.0        1.00000\n",
       "2021-02-25 01:53:06.156732   0.0        1.00000\n",
       "2021-02-25 01:53:06.692050   0.0        1.00000\n",
       "2021-02-25 01:53:07.203511   0.0        1.00000\n",
       "2021-02-25 01:53:07.739839   0.0        1.00000\n",
       "2021-02-25 01:53:08.250432   0.0        1.00000\n",
       "2021-02-25 01:53:08.784642   0.0        1.00000\n",
       "2021-02-25 01:53:09.295743   0.0        1.00000\n",
       "2021-02-25 01:53:09.828305   0.0        1.00000\n",
       "2021-02-25 01:53:10.343179   0.0        1.00000\n",
       "2021-02-25 01:53:10.878871   0.0        1.03125\n",
       "2021-02-25 01:53:11.393074   0.0        1.03125\n",
       "2021-02-25 01:53:11.928408   0.0        1.03125\n",
       "2021-02-25 01:53:12.441313   0.0        1.03125\n",
       "2021-02-25 01:53:12.975392   0.0        0.90625\n",
       "2021-02-25 01:53:13.488893   0.0        0.90625\n",
       "2021-02-25 01:53:14.024340   0.0        1.00000\n",
       "2021-02-25 01:53:14.538692   0.0        1.00000\n",
       "2021-02-25 01:53:15.074731   0.0        1.03125"
      ]
     },
     "execution_count": 4,
     "metadata": {},
     "output_type": "execute_result"
    }
   ],
   "source": [
    "recorder.frame"
   ]
  },
  {
   "cell_type": "markdown",
   "metadata": {},
   "source": [
    "or by plotting the results using matplotlib"
   ]
  },
  {
   "cell_type": "code",
   "execution_count": 5,
   "metadata": {},
   "outputs": [
    {
     "data": {
      "text/plain": [
       "<matplotlib.axes._subplots.AxesSubplot at 0x7f821f2f28>"
      ]
     },
     "execution_count": 5,
     "metadata": {},
     "output_type": "execute_result"
    },
    {
     "data": {
      "image/png": "[encoded data removed]",
      "text/plain": [
       "<matplotlib.figure.Figure at 0x7f82d27198>"
      ]
     },
     "metadata": {},
     "output_type": "display_data"
    }
   ],
   "source": [
    "%matplotlib inline\n",
    "recorder.frame['PSINTFP_power'].plot()"
   ]
  },
  {
   "cell_type": "markdown",
   "metadata": {},
   "source": [
    "We can get more information by using the `mark` function which will increment the invocation number without having to stop and start the recorder"
   ]
  },
  {
   "cell_type": "code",
   "execution_count": 6,
   "metadata": {},
   "outputs": [
    {
     "data": {
      "text/plain": [
       "array([<matplotlib.axes._subplots.AxesSubplot object at 0x7f8212d4e0>,\n",
       "       <matplotlib.axes._subplots.AxesSubplot object at 0x7f8211d518>],\n",
       "      dtype=object)"
      ]
     },
     "execution_count": 6,
     "metadata": {},
     "output_type": "execute_result"
    },
    {
     "data": {
      "image/png": "[encoded data removed]",
      "text/plain": [
       "<matplotlib.figure.Figure at 0x7f822295f8>"
      ]
     },
     "metadata": {},
     "output_type": "display_data"
    }
   ],
   "source": [
    "recorder.reset()\n",
    "with recorder.record(0.5):\n",
    "    time.sleep(10)\n",
    "    recorder.mark()\n",
    "    for _ in range(10000000):\n",
    "        pass\n",
    "    recorder.mark()\n",
    "    time.sleep(10)\n",
    "    \n",
    "recorder.frame.plot(subplots=True)"
   ]
  },
  {
   "cell_type": "markdown",
   "metadata": {},
   "source": [
    "This clearly shows the power spike when the for loop starts running."
   ]
  },
  {
   "cell_type": "markdown",
   "metadata": {},
   "source": [
    "Copyright (C) 2021 Xilinx, Inc"
   ]
  },
  {
   "cell_type": "markdown",
   "metadata": {},
   "source": [
    "---"
   ]
  },
  {
   "cell_type": "markdown",
   "metadata": {},
   "source": [
    "---"
   ]
  }
 ],
 "metadata": {
  "kernelspec": {
   "display_name": "Python 3",
   "language": "python",
   "name": "python3"
  },
  "language_info": {
   "codemirror_mode": {
    "name": "ipython",
    "version": 3
   },
   "file_extension": ".py",
   "mimetype": "text/x-python",
   "name": "python",
   "nbconvert_exporter": "python",
   "pygments_lexer": "ipython3",
   "version": "3.6.5"
  }
 },
 "nbformat": 4,
 "nbformat_minor": 4
}
